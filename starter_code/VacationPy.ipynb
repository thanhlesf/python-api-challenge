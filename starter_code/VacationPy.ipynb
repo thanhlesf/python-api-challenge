{
 "cells": [
  {
   "cell_type": "markdown",
   "metadata": {},
   "source": [
    "# VacationPy\n",
    "----\n",
    "\n",
    "#### Note\n",
    "* Instructions have been included for each segment. You do not have to follow them exactly, but they are included to help you think through the steps."
   ]
  },
  {
   "cell_type": "code",
   "execution_count": 1,
   "metadata": {},
   "outputs": [],
   "source": [
    "# Dependencies and Setup\n",
    "import matplotlib.pyplot as plt\n",
    "import pandas as pd\n",
    "import numpy as np\n",
    "import requests\n",
    "import gmaps\n",
    "import os\n",
    "\n",
    "# Import API key\n",
    "from api_keys import g_key\n"
   ]
  },
  {
   "cell_type": "markdown",
   "metadata": {},
   "source": [
    "### Store Part I results into DataFrame\n",
    "* Load the csv exported in Part I to a DataFrame"
   ]
  },
  {
   "cell_type": "code",
   "execution_count": 2,
   "metadata": {},
   "outputs": [
    {
     "data": {
      "text/plain": [
       "Unnamed: 0         570\n",
       "Country            565\n",
       "City               570\n",
       "Temperature        570\n",
       "Max Temperature    570\n",
       "Humidity           570\n",
       "Cloud              570\n",
       "Wind Speed         570\n",
       "Latitude           570\n",
       "Longtitude         570\n",
       "dtype: int64"
      ]
     },
     "execution_count": 2,
     "metadata": {},
     "output_type": "execute_result"
    }
   ],
   "source": [
    "# load the city.csv to perform the analysis\n",
    "types_df = pd.read_csv(\"../output_data/city.csv\")\n",
    "\n",
    "# Drop any NA or unwanted data\n",
    "types_df.dropna()\n",
    "types = types_df\n",
    "types.count()"
   ]
  },
  {
   "cell_type": "markdown",
   "metadata": {},
   "source": [
    "# Humidity Heatmap\n",
    "* Configure gmaps.\n",
    "* Use the Lat and Lng as locations and Humidity as the weight.\n",
    "* Add Heatmap layer to map."
   ]
  },
  {
   "cell_type": "code",
   "execution_count": 3,
   "metadata": {},
   "outputs": [],
   "source": [
    "# Create configure gmaps plus API key\n",
    "gmaps.configure(api_key=g_key)\n",
    "\n",
    "# Create variables for locations and weight\n",
    "locations = types[['Latitude', 'Longtitude']]\n",
    "weight = types['Humidity'].astype(float)"
   ]
  },
  {
   "cell_type": "code",
   "execution_count": 4,
   "metadata": {},
   "outputs": [
    {
     "data": {
      "application/vnd.jupyter.widget-view+json": {
       "model_id": "76c18463971845468e445c12cafe07c1",
       "version_major": 2,
       "version_minor": 0
      },
      "text/plain": [
       "Figure(layout=FigureLayout(height='420px'))"
      ]
     },
     "metadata": {},
     "output_type": "display_data"
    }
   ],
   "source": [
    "# Plot Heatmap\n",
    "fig = gmaps.figure()\n",
    "\n",
    "# Create heat layer to map\n",
    "heat_layer = gmaps.heatmap_layer(locations, weight, \n",
    "                                 dissipating=False, max_intensity=100,\n",
    "                                 point_radius=2)\n",
    "\n",
    "# Add layer\n",
    "fig.add_layer(heat_layer)\n",
    "\n",
    "# Display figure\n",
    "fig\n"
   ]
  },
  {
   "cell_type": "markdown",
   "metadata": {},
   "source": [
    "### Create new DataFrame fitting weather criteria\n",
    "* Narrow down the cities to fit weather conditions.\n",
    "* Drop any rows will null values."
   ]
  },
  {
   "cell_type": "code",
   "execution_count": 5,
   "metadata": {},
   "outputs": [
    {
     "data": {
      "text/html": [
       "<div>\n",
       "<style scoped>\n",
       "    .dataframe tbody tr th:only-of-type {\n",
       "        vertical-align: middle;\n",
       "    }\n",
       "\n",
       "    .dataframe tbody tr th {\n",
       "        vertical-align: top;\n",
       "    }\n",
       "\n",
       "    .dataframe thead th {\n",
       "        text-align: right;\n",
       "    }\n",
       "</style>\n",
       "<table border=\"1\" class=\"dataframe\">\n",
       "  <thead>\n",
       "    <tr style=\"text-align: right;\">\n",
       "      <th></th>\n",
       "      <th>Unnamed: 0</th>\n",
       "      <th>Country</th>\n",
       "      <th>City</th>\n",
       "      <th>Temperature</th>\n",
       "      <th>Max Temperature</th>\n",
       "      <th>Humidity</th>\n",
       "      <th>Cloud</th>\n",
       "      <th>Wind Speed</th>\n",
       "      <th>Latitude</th>\n",
       "      <th>Longtitude</th>\n",
       "    </tr>\n",
       "  </thead>\n",
       "  <tbody>\n",
       "    <tr>\n",
       "      <td>0</td>\n",
       "      <td>15</td>\n",
       "      <td>CN</td>\n",
       "      <td>Dali</td>\n",
       "      <td>71.64</td>\n",
       "      <td>71.64</td>\n",
       "      <td>14</td>\n",
       "      <td>0</td>\n",
       "      <td>3.47</td>\n",
       "      <td>25.70</td>\n",
       "      <td>100.18</td>\n",
       "    </tr>\n",
       "    <tr>\n",
       "      <td>1</td>\n",
       "      <td>203</td>\n",
       "      <td>ZA</td>\n",
       "      <td>Port Shepstone</td>\n",
       "      <td>73.78</td>\n",
       "      <td>73.78</td>\n",
       "      <td>50</td>\n",
       "      <td>0</td>\n",
       "      <td>8.08</td>\n",
       "      <td>-30.74</td>\n",
       "      <td>30.45</td>\n",
       "    </tr>\n",
       "    <tr>\n",
       "      <td>2</td>\n",
       "      <td>538</td>\n",
       "      <td>AU</td>\n",
       "      <td>Batemans Bay</td>\n",
       "      <td>68.20</td>\n",
       "      <td>73.00</td>\n",
       "      <td>34</td>\n",
       "      <td>0</td>\n",
       "      <td>5.84</td>\n",
       "      <td>-35.72</td>\n",
       "      <td>150.18</td>\n",
       "    </tr>\n",
       "  </tbody>\n",
       "</table>\n",
       "</div>"
      ],
      "text/plain": [
       "   Unnamed: 0 Country            City  Temperature  Max Temperature  Humidity  \\\n",
       "0          15      CN            Dali        71.64            71.64        14   \n",
       "1         203      ZA  Port Shepstone        73.78            73.78        50   \n",
       "2         538      AU    Batemans Bay        68.20            73.00        34   \n",
       "\n",
       "   Cloud  Wind Speed  Latitude  Longtitude  \n",
       "0      0        3.47     25.70      100.18  \n",
       "1      0        8.08    -30.74       30.45  \n",
       "2      0        5.84    -35.72      150.18  "
      ]
     },
     "execution_count": 5,
     "metadata": {},
     "output_type": "execute_result"
    }
   ],
   "source": [
    "\n",
    "# Set zero cloudiness\n",
    "zero_cloud = types[types[\"Cloud\"] == 0]\n",
    "\n",
    "# Set max temp above 70 degrees F\n",
    "above_70_degrees = zero_cloud[zero_cloud[\"Max Temperature\"] > 70]\n",
    "\n",
    "# Set max temp below 80 degrees F\n",
    "below_80_degrees = above_70_degrees[above_70_degrees[\"Max Temperature\"] < 80]\n",
    "\n",
    "# Set wind speed below 10 mph\n",
    "slow_wind = below_80_degrees[below_80_degrees[\"Wind Speed\"] < 10]\n",
    "\n",
    "# Set humidity below 60 %\n",
    "vacation_time = slow_wind[slow_wind[\"Humidity\"] < 60]\n",
    "\n",
    "# Set Index\n",
    "indexed_vacation_time = vacation_time.reset_index()\n",
    "\n",
    "del indexed_vacation_time[\"index\"]\n",
    "\n",
    "indexed_vacation_time\n"
   ]
  },
  {
   "cell_type": "code",
   "execution_count": 6,
   "metadata": {},
   "outputs": [
    {
     "data": {
      "application/vnd.jupyter.widget-view+json": {
       "model_id": "57ac5c33dfdc4aa193dbe3410ba2cd5b",
       "version_major": 2,
       "version_minor": 0
      },
      "text/plain": [
       "Figure(layout=FigureLayout(height='420px'))"
      ]
     },
     "metadata": {},
     "output_type": "display_data"
    }
   ],
   "source": [
    "vaca_locations = indexed_vacation_time[['Latitude', 'Longtitude']]\n",
    "vaca_humidity = indexed_vacation_time['Humidity'].astype(float)\n",
    "\n",
    "# Plot Heatmap\n",
    "vaca_fig = gmaps.figure()\n",
    "\n",
    "# Create heat layer\n",
    "vaca_heat_layer = gmaps.heatmap_layer(vaca_locations, vaca_humidity, \n",
    "                                 dissipating=False, max_intensity=50,\n",
    "                                 point_radius=2.5)\n",
    "\n",
    "# Add layer\n",
    "vaca_fig.add_layer(vaca_heat_layer)\n",
    "\n",
    "# Display figure\n",
    "vaca_fig"
   ]
  },
  {
   "cell_type": "markdown",
   "metadata": {},
   "source": [
    "### Hotel Map\n",
    "* Store into variable named `hotel_df`.\n",
    "* Add a \"Hotel Name\" column to the DataFrame.\n",
    "* Set parameters to search for hotels with 5000 meters.\n",
    "* Hit the Google Places API for each city's coordinates.\n",
    "* Store the first Hotel result into the DataFrame.\n",
    "* Plot markers on top of the heatmap."
   ]
  },
  {
   "cell_type": "code",
   "execution_count": 7,
   "metadata": {},
   "outputs": [
    {
     "data": {
      "text/html": [
       "<div>\n",
       "<style scoped>\n",
       "    .dataframe tbody tr th:only-of-type {\n",
       "        vertical-align: middle;\n",
       "    }\n",
       "\n",
       "    .dataframe tbody tr th {\n",
       "        vertical-align: top;\n",
       "    }\n",
       "\n",
       "    .dataframe thead th {\n",
       "        text-align: right;\n",
       "    }\n",
       "</style>\n",
       "<table border=\"1\" class=\"dataframe\">\n",
       "  <thead>\n",
       "    <tr style=\"text-align: right;\">\n",
       "      <th></th>\n",
       "      <th>Unnamed: 0</th>\n",
       "      <th>Country</th>\n",
       "      <th>City</th>\n",
       "      <th>Temperature</th>\n",
       "      <th>Max Temperature</th>\n",
       "      <th>Humidity</th>\n",
       "      <th>Cloud</th>\n",
       "      <th>Wind Speed</th>\n",
       "      <th>Latitude</th>\n",
       "      <th>Longtitude</th>\n",
       "      <th>Nearest Hotel</th>\n",
       "    </tr>\n",
       "  </thead>\n",
       "  <tbody>\n",
       "    <tr>\n",
       "      <td>0</td>\n",
       "      <td>15</td>\n",
       "      <td>CN</td>\n",
       "      <td>Dali</td>\n",
       "      <td>71.64</td>\n",
       "      <td>71.64</td>\n",
       "      <td>14</td>\n",
       "      <td>0</td>\n",
       "      <td>3.47</td>\n",
       "      <td>25.70</td>\n",
       "      <td>100.18</td>\n",
       "      <td>Dali Travelling With Hostel</td>\n",
       "    </tr>\n",
       "    <tr>\n",
       "      <td>1</td>\n",
       "      <td>203</td>\n",
       "      <td>ZA</td>\n",
       "      <td>Port Shepstone</td>\n",
       "      <td>73.78</td>\n",
       "      <td>73.78</td>\n",
       "      <td>50</td>\n",
       "      <td>0</td>\n",
       "      <td>8.08</td>\n",
       "      <td>-30.74</td>\n",
       "      <td>30.45</td>\n",
       "      <td>My Den Beachfront B&amp;B And Self-Catering</td>\n",
       "    </tr>\n",
       "    <tr>\n",
       "      <td>2</td>\n",
       "      <td>538</td>\n",
       "      <td>AU</td>\n",
       "      <td>Batemans Bay</td>\n",
       "      <td>68.20</td>\n",
       "      <td>73.00</td>\n",
       "      <td>34</td>\n",
       "      <td>0</td>\n",
       "      <td>5.84</td>\n",
       "      <td>-35.72</td>\n",
       "      <td>150.18</td>\n",
       "      <td>Coachhouse Marina Resort - Batemans Bay</td>\n",
       "    </tr>\n",
       "  </tbody>\n",
       "</table>\n",
       "</div>"
      ],
      "text/plain": [
       "   Unnamed: 0 Country            City  Temperature  Max Temperature  Humidity  \\\n",
       "0          15      CN            Dali        71.64            71.64        14   \n",
       "1         203      ZA  Port Shepstone        73.78            73.78        50   \n",
       "2         538      AU    Batemans Bay        68.20            73.00        34   \n",
       "\n",
       "   Cloud  Wind Speed  Latitude  Longtitude  \\\n",
       "0      0        3.47     25.70      100.18   \n",
       "1      0        8.08    -30.74       30.45   \n",
       "2      0        5.84    -35.72      150.18   \n",
       "\n",
       "                             Nearest Hotel  \n",
       "0              Dali Travelling With Hostel  \n",
       "1  My Den Beachfront B&B And Self-Catering  \n",
       "2  Coachhouse Marina Resort - Batemans Bay  "
      ]
     },
     "execution_count": 7,
     "metadata": {},
     "output_type": "execute_result"
    }
   ],
   "source": [
    "# Need to work over this ... it is so much\n",
    "# Hotel variable\n",
    "hotels = []\n",
    "\n",
    "# Loop through dataframe to get nearest hotel\n",
    "for city in range(len(indexed_vacation_time[\"City\"])):\n",
    "\n",
    "    lat = indexed_vacation_time.loc[city][\"Latitude\"]\n",
    "    lng = indexed_vacation_time.loc[city][\"Longtitude\"]\n",
    "\n",
    "    city_coords = f\"{lat},{lng}\"\n",
    "\n",
    "    params = {\n",
    "        \"location\": city_coords, \n",
    "        \"types\": \"lodging\",\n",
    "        \"radius\": 5000,\n",
    "        \"key\": g_key\n",
    "    }\n",
    "\n",
    "    base_url = \"https://maps.googleapis.com/maps/api/place/nearbysearch/json\"   \n",
    "\n",
    "    hotel_request = requests.get(base_url, params=params)\n",
    "    hotel_response = hotel_request.json()\n",
    "\n",
    "    try:\n",
    "        hotels.append(hotel_response[\"results\"][0][\"name\"])\n",
    "    except:\n",
    "        hotels.append(\"Nearest hotel not found\")\n",
    "\n",
    "# Dataframe with nearest hotel\n",
    "indexed_vacation_time[\"Nearest Hotel\"] = hotels\n",
    "indexed_vacation_time"
   ]
  },
  {
   "cell_type": "code",
   "execution_count": 8,
   "metadata": {},
   "outputs": [
    {
     "data": {
      "text/html": [
       "<div>\n",
       "<style scoped>\n",
       "    .dataframe tbody tr th:only-of-type {\n",
       "        vertical-align: middle;\n",
       "    }\n",
       "\n",
       "    .dataframe tbody tr th {\n",
       "        vertical-align: top;\n",
       "    }\n",
       "\n",
       "    .dataframe thead th {\n",
       "        text-align: right;\n",
       "    }\n",
       "</style>\n",
       "<table border=\"1\" class=\"dataframe\">\n",
       "  <thead>\n",
       "    <tr style=\"text-align: right;\">\n",
       "      <th></th>\n",
       "      <th>Latitude</th>\n",
       "      <th>Longtitude</th>\n",
       "    </tr>\n",
       "  </thead>\n",
       "  <tbody>\n",
       "    <tr>\n",
       "      <td>0</td>\n",
       "      <td>25.70</td>\n",
       "      <td>100.18</td>\n",
       "    </tr>\n",
       "    <tr>\n",
       "      <td>1</td>\n",
       "      <td>-30.74</td>\n",
       "      <td>30.45</td>\n",
       "    </tr>\n",
       "    <tr>\n",
       "      <td>2</td>\n",
       "      <td>-35.72</td>\n",
       "      <td>150.18</td>\n",
       "    </tr>\n",
       "  </tbody>\n",
       "</table>\n",
       "</div>"
      ],
      "text/plain": [
       "   Latitude  Longtitude\n",
       "0     25.70      100.18\n",
       "1    -30.74       30.45\n",
       "2    -35.72      150.18"
      ]
     },
     "execution_count": 8,
     "metadata": {},
     "output_type": "execute_result"
    }
   ],
   "source": [
    "# NOTE: Do not change any of the code in this cell\n",
    "# Using the template add the hotel marks to the heatmap\n",
    "info_box_template = \"\"\"\n",
    "<dl>\n",
    "<dt>Name</dt><dd>{Nearest Hotel}</dd>\n",
    "<dt>City</dt><dd>{City}</dd>\n",
    "<dt>Country</dt><dd>{Country}</dd>\n",
    "</dl>\n",
    "\"\"\"\n",
    "# Store the DataFrame Row\n",
    "# NOTE: be sure to update with your DataFrame name\n",
    "hotel_info = [info_box_template.format(**row) for index, row in indexed_vacation_time.iterrows()]\n",
    "locations = indexed_vacation_time[[\"Latitude\", \"Longtitude\"]]\n",
    "locations"
   ]
  },
  {
   "cell_type": "code",
   "execution_count": 9,
   "metadata": {},
   "outputs": [
    {
     "data": {
      "application/vnd.jupyter.widget-view+json": {
       "model_id": "57ac5c33dfdc4aa193dbe3410ba2cd5b",
       "version_major": 2,
       "version_minor": 0
      },
      "text/plain": [
       "Figure(layout=FigureLayout(height='420px'))"
      ]
     },
     "metadata": {},
     "output_type": "display_data"
    }
   ],
   "source": [
    "# Add marker layer ontop of heat map\n",
    "markers = gmaps.marker_layer(locations, info_box_content= [f\"Nearest Hotel: {hotel}\" for hotel in hotels])\n",
    "vaca_fig.add_layer(markers)\n",
    "\n",
    "# Display Map\n",
    "vaca_fig"
   ]
  },
  {
   "cell_type": "code",
   "execution_count": null,
   "metadata": {},
   "outputs": [],
   "source": []
  }
 ],
 "metadata": {
  "kernelspec": {
   "display_name": "Python 3",
   "language": "python",
   "name": "python3"
  },
  "language_info": {
   "codemirror_mode": {
    "name": "ipython",
    "version": 3
   },
   "file_extension": ".py",
   "mimetype": "text/x-python",
   "name": "python",
   "nbconvert_exporter": "python",
   "pygments_lexer": "ipython3",
   "version": "3.7.4"
  },
  "latex_envs": {
   "LaTeX_envs_menu_present": true,
   "autoclose": false,
   "autocomplete": true,
   "bibliofile": "biblio.bib",
   "cite_by": "apalike",
   "current_citInitial": 1,
   "eqLabelWithNumbers": true,
   "eqNumInitial": 1,
   "hotkeys": {
    "equation": "Ctrl-E",
    "itemize": "Ctrl-I"
   },
   "labels_anchors": false,
   "latex_user_defs": false,
   "report_style_numbering": false,
   "user_envs_cfg": false
  }
 },
 "nbformat": 4,
 "nbformat_minor": 2
}
